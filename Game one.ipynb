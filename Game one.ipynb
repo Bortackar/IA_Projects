{
 "cells": [
  {
   "cell_type": "code",
   "execution_count": 1,
   "metadata": {},
   "outputs": [],
   "source": [
    "import numpy as np\n",
    "import random as rd\n",
    "from copy import deepcopy\n",
    "HUMAN = -1\n",
    "PC = 1\n",
    "fichas = {HUMAN: \"o\" , PC: \"x\"}"
   ]
  },
  {
   "cell_type": "code",
   "execution_count": 2,
   "metadata": {},
   "outputs": [],
   "source": [
    "class Estado(object):\n",
    "    \n",
    "    def __init__(self, tablero = [[0,  0, 0], [0,  0, 0], [0,  0, 0]]):\n",
    "        self.tablero = tablero\n",
    "    \n",
    "    def __str__(self):\n",
    "        str_tablero = \"\"\n",
    "        for i in range(3):\n",
    "            for j in range(3):\n",
    "                casilla = fichas[self.tablero[i][j]] if self.tablero[i][j] !=0 else  \" \"\n",
    "                str_tablero += casilla\n",
    "                if j<2:\n",
    "                    str_tablero += \"│\"\n",
    "\n",
    "            str_tablero += \"\\n\"\n",
    "            if i<2:\n",
    "                str_tablero += \"─┼─┼─\\n\" \n",
    "\n",
    "        return str_tablero + \"\\n\""
   ]
  },
  {
   "cell_type": "code",
   "execution_count": 3,
   "metadata": {},
   "outputs": [
    {
     "name": "stdout",
     "output_type": "stream",
     "text": [
      " │ │x\n",
      "─┼─┼─\n",
      " │x│ \n",
      "─┼─┼─\n",
      " │ │ \n",
      "\n",
      "\n"
     ]
    }
   ],
   "source": [
    "#prueba de impresion\n",
    "est = Estado()\n",
    "tab = [[0,0,1],[0,1,0],[0,0,0]]\n",
    "est.tablero=tab\n",
    "print(est)"
   ]
  },
  {
   "cell_type": "code",
   "execution_count": 4,
   "metadata": {},
   "outputs": [
    {
     "data": {
      "text/plain": [
       "(True, -1)"
      ]
     },
     "execution_count": 4,
     "metadata": {},
     "output_type": "execute_result"
    }
   ],
   "source": [
    "#comprobar si es estado final\n",
    "def isendutil(esta):\n",
    "    table=esta.tablero\n",
    "    #comprobar filas\n",
    "    for i in range(len(table)):\n",
    "        cont=0\n",
    "        for j in range(len(table)):\n",
    "            if table[i][0]==table[i][j] and table[i][0] != 0:\n",
    "                cont+=1\n",
    "        if cont==3:\n",
    "            return True, -1 if table[0][i] == -1 else 1\n",
    "    #comprobar columnas\n",
    "    for i in range(len(table)):\n",
    "        cont=0\n",
    "        for j in range(len(table)):\n",
    "            if table[0][i]==table[j][i] and table[0][i] != 0:\n",
    "                cont+=1\n",
    "        if cont==3:\n",
    "            return True, -1 if table[0][i] == -1 else 1\n",
    "    \n",
    "    cont=0\n",
    "    #comprobar diagonal derecha izquierda\n",
    "    for i in range(len(table)):\n",
    "        if table[0][0]==table[i][i] and table[0][0] != 0:\n",
    "            cont+=1\n",
    "    if cont==3:\n",
    "        return True, -1 if table[i][i] == -1 else 1\n",
    "    \n",
    "    cont=0\n",
    "    #comprobar diagonal izquerda derecha\n",
    "    for i in range(len(table)):\n",
    "        if table[0][2]==table[i][len(table)-i-1] and table[0][2] != 0:\n",
    "            cont+=1\n",
    "    if cont==3:\n",
    "        return True, -1 if table[i][0] == -1 else 1\n",
    "    \n",
    "    #si es estado final con empate o no es final\n",
    "    for i in range(len(table)):\n",
    "        for j in range(len(table)):\n",
    "            if table[i][j]==0:\n",
    "                return False,0\n",
    "    return True, 2\n",
    "pruebaes = Estado()\n",
    "tablerop = [[0,  1, -1], [1, -1,  0], [-1,  0, 0]]\n",
    "pruebaes.tablero=tablerop \n",
    "isendutil(pruebaes)"
   ]
  },
  {
   "cell_type": "code",
   "execution_count": 5,
   "metadata": {},
   "outputs": [],
   "source": [
    "def generarest(esta,juga):\n",
    "    estados = []\n",
    "    aux = deepcopy(esta.tablero)\n",
    "    for i in range(len(aux)):\n",
    "        for j in range(len(aux)):\n",
    "            aux = deepcopy(esta.tablero)\n",
    "            if aux[i][j]==0:\n",
    "                aux[i][j]= 1 if juga==1 else -1\n",
    "                temp = Estado()\n",
    "                temp.tablero=deepcopy(aux)\n",
    "                estados.append(temp)\n",
    "                \n",
    "    return estados"
   ]
  },
  {
   "cell_type": "code",
   "execution_count": 6,
   "metadata": {},
   "outputs": [
    {
     "name": "stdout",
     "output_type": "stream",
     "text": [
      " │ │x\n",
      "─┼─┼─\n",
      " │x│ \n",
      "─┼─┼─\n",
      " │ │ \n",
      "\n",
      "\n"
     ]
    }
   ],
   "source": [
    "print(est)\n",
    "det = generarest(est,1)\n"
   ]
  },
  {
   "cell_type": "code",
   "execution_count": 7,
   "metadata": {},
   "outputs": [],
   "source": [
    "def fmin(estado):\n",
    "    # si es estado final, retornar la utilidad para ese estado\n",
    "    a,b = isendutil(estado)\n",
    "    if a==True:\n",
    "        return b\n",
    "\n",
    "    valor = 10000\n",
    "    # para cada estado siguiente:\n",
    "    estads = generarest(estado,-1)\n",
    "    for e in estads:\n",
    "        valor = min(valor, fmax(e))\n",
    "    return valor"
   ]
  },
  {
   "cell_type": "code",
   "execution_count": 8,
   "metadata": {},
   "outputs": [],
   "source": [
    "def fmax(estado):\n",
    "    # si es estado final, retornar la utilidad para ese estado\n",
    "    a,b = isendutil(estado)\n",
    "    if a==True:\n",
    "        return b\n",
    "\n",
    "    valor = -10000\n",
    "    # para cada estado siguiente:\n",
    "    estads = generarest(estado, 1)\n",
    "    for e in estads:\n",
    "        valor = max(valor, fmin(e))\n",
    "    return valor"
   ]
  },
  {
   "cell_type": "code",
   "execution_count": 9,
   "metadata": {},
   "outputs": [],
   "source": [
    "def decision_minimax(estado):\n",
    "    mejor_jugada = None\n",
    "    valor = -100000\n",
    "    for e in generarest(estado,1):\n",
    "        maximo = fmin(e)\n",
    "        if  maximo > valor:\n",
    "            valor = maximo\n",
    "            mejor_jugada = e\n",
    "    return mejor_jugada, valor"
   ]
  },
  {
   "cell_type": "code",
   "execution_count": 14,
   "metadata": {},
   "outputs": [],
   "source": [
    "def decision_minimax_pc(estado):\n",
    "    mejor_jugada = None\n",
    "    valor = 100000\n",
    "    for e in generarest(estado,1):\n",
    "        maximo = fmin(e)\n",
    "        if  maximo < valor:\n",
    "            valor = maximo\n",
    "            mejor_jugada = e\n",
    "    return mejor_jugada, valor"
   ]
  },
  {
   "cell_type": "code",
   "execution_count": 10,
   "metadata": {
    "collapsed": true
   },
   "outputs": [
    {
     "name": "stdout",
     "output_type": "stream",
     "text": [
      " │ │ \n",
      "─┼─┼─\n",
      " │ │ \n",
      "─┼─┼─\n",
      " │ │ \n",
      "\n",
      "\n",
      "sig\n",
      "x│ │ \n",
      "─┼─┼─\n",
      " │ │ \n",
      "─┼─┼─\n",
      " │ │ \n",
      "\n",
      "\n",
      "1\n"
     ]
    }
   ],
   "source": [
    "actual = Estado(tablero = [[0,  0, 0], [0, 0,  0], [0,  0, 0]])\n",
    "siguiente_movimiento, valor = decision_minimax(actual)\n",
    "print(actual)\n",
    "print(\"sig\")\n",
    "print(siguiente_movimiento)\n",
    "print(valor)"
   ]
  },
  {
   "cell_type": "code",
   "execution_count": 10,
   "metadata": {},
   "outputs": [
    {
     "name": "stdout",
     "output_type": "stream",
     "text": [
      "[[1 2 3]\n",
      " [4 5 6]\n",
      " [7 8 9]]\n"
     ]
    }
   ],
   "source": [
    "#modo juego \n",
    "#tablero seleccion\n",
    "tab_juego = np.zeros([3,3],int)\n",
    "cont = 1\n",
    "for i in range(len(tab_juego)):\n",
    "    for j in range(len(tab_juego)):\n",
    "        tab_juego[i][j]=cont\n",
    "        cont+=1\n",
    "print(tab_juego)"
   ]
  },
  {
   "cell_type": "code",
   "execution_count": 15,
   "metadata": {},
   "outputs": [],
   "source": [
    "def juego(Estado, jugador):    \n",
    "    if jugador==1:\n",
    "        print(\"PLAYER\")\n",
    "        print(tab_juego)\n",
    "        pos = input()\n",
    "        resp = isempty(pos,esta.tablero,tab_juego)\n",
    "        if resp == True:\n",
    "            tablero=crate(pos,esta.tablero,tab_juego, jugador)\n",
    "            esta.tablero=tablero\n",
    "            return esta,int(2) \n",
    "    elif jugador==2:\n",
    "        print(\"PC\")\n",
    "        nuevo,jugador = decision_minimax(esta)\n",
    "        return nuevo,int(1)\n",
    "    \n",
    "def juego_pc(Estado, jugador):    \n",
    "    if jugador==1:\n",
    "        print(\"PC1\")\n",
    "        nuevo,jugador = decision_minimax_pc(esta)\n",
    "        return nuevo,int(1)\n",
    "    elif jugador==2:\n",
    "        print(\"PC2\")\n",
    "        nuevo,jugador = decision_minimax(esta)\n",
    "        return nuevo,int(1)\n",
    "\n",
    "def isempty(op, tablero, tab_juego):\n",
    "    for i in range(len(tab_juego)):\n",
    "        for j in range(len(tablero)):\n",
    "            if tab_juego[i][j] == int(op) and tablero[i][j]==0:\n",
    "                return True\n",
    "    return False\n",
    "\n",
    "def crate(op, tablero, tab_juego,jugador):\n",
    "    for i in range(len(tab_juego)):\n",
    "        for j in range(len(tablero)):\n",
    "            if tab_juego[i][j] == int(op) and tablero[i][j]==0:\n",
    "                if jugador==1:\n",
    "                    tablero[i][j]=-1\n",
    "                else: \n",
    "                    tablero[i][j]=1\n",
    "                return tablero\n",
    "    return None\n",
    "            "
   ]
  },
  {
   "cell_type": "code",
   "execution_count": 77,
   "metadata": {
    "collapsed": true
   },
   "outputs": [
    {
     "name": "stdout",
     "output_type": "stream",
     "text": [
      "<class 'int'>\n",
      "1\n",
      "PLAYER\n",
      "[[1 2 3]\n",
      " [4 5 6]\n",
      " [7 8 9]]\n",
      "1\n",
      "o│ │ \n",
      "─┼─┼─\n",
      " │ │ \n",
      "─┼─┼─\n",
      " │ │ \n",
      "\n",
      "\n",
      "2\n",
      "PC\n",
      "o│ │x\n",
      "─┼─┼─\n",
      " │ │ \n",
      "─┼─┼─\n",
      " │ │ \n",
      "\n",
      "\n",
      "1\n",
      "PLAYER\n",
      "[[1 2 3]\n",
      " [4 5 6]\n",
      " [7 8 9]]\n",
      "4\n",
      "o│ │x\n",
      "─┼─┼─\n",
      "o│ │ \n",
      "─┼─┼─\n",
      " │ │ \n",
      "\n",
      "\n",
      "2\n",
      "PC\n",
      "o│ │x\n",
      "─┼─┼─\n",
      "o│ │ \n",
      "─┼─┼─\n",
      "x│ │ \n",
      "\n",
      "\n",
      "1\n",
      "PLAYER\n",
      "[[1 2 3]\n",
      " [4 5 6]\n",
      " [7 8 9]]\n",
      "5\n",
      "o│ │x\n",
      "─┼─┼─\n",
      "o│o│ \n",
      "─┼─┼─\n",
      "x│ │ \n",
      "\n",
      "\n",
      "2\n",
      "PC\n",
      "o│ │x\n",
      "─┼─┼─\n",
      "o│o│ \n",
      "─┼─┼─\n",
      "x│ │x\n",
      "\n",
      "\n",
      "1\n",
      "PLAYER\n",
      "[[1 2 3]\n",
      " [4 5 6]\n",
      " [7 8 9]]\n",
      "6\n",
      "o│ │x\n",
      "─┼─┼─\n",
      "o│o│o\n",
      "─┼─┼─\n",
      "x│ │x\n",
      "\n",
      "\n",
      "2\n"
     ]
    }
   ],
   "source": [
    "tablero = np.zeros([3,3],int)\n",
    "esta = Estado(tablero=tablero)\n",
    "final = False\n",
    "jugador = rd.randint(1,2)\n",
    "print(type(jugador))\n",
    "print(jugador)\n",
    "if (jugador == int(2)):\n",
    "        esta.tablero[0][0]=1\n",
    "        jugador=1\n",
    "        print(esta)\n",
    "        while not final:\n",
    "            nuevo2, jugador2 = juego(esta,jugador)\n",
    "            boo, valor = isendutil(nuevo2)\n",
    "            final = boo\n",
    "            jugador = jugador2\n",
    "            esta = nuevo2\n",
    "            print(esta)\n",
    "            print(jugador)\n",
    "else:\n",
    "        while not final:\n",
    "            nuevo2, jugador2 = juego(esta,jugador)\n",
    "            boo, valor = isendutil(nuevo2)\n",
    "            final = boo\n",
    "            jugador = jugador2\n",
    "            esta = nuevo2\n",
    "            print(esta)\n",
    "            print(jugador)\n"
   ]
  },
  {
   "cell_type": "code",
   "execution_count": 111,
   "metadata": {},
   "outputs": [
    {
     "data": {
      "text/plain": [
       "1"
      ]
     },
     "execution_count": 111,
     "metadata": {},
     "output_type": "execute_result"
    }
   ],
   "source": [
    "rd.randint(1,2)"
   ]
  },
  {
   "cell_type": "code",
   "execution_count": 17,
   "metadata": {},
   "outputs": [
    {
     "name": "stdout",
     "output_type": "stream",
     "text": [
      "PC1\n"
     ]
    },
    {
     "ename": "NameError",
     "evalue": "name 'esta' is not defined",
     "output_type": "error",
     "traceback": [
      "\u001b[0;31m---------------------------------------------------------------------------\u001b[0m",
      "\u001b[0;31mNameError\u001b[0m                                 Traceback (most recent call last)",
      "\u001b[0;32m<ipython-input-17-0ce1027687a6>\u001b[0m in \u001b[0;36m<module>\u001b[0;34m\u001b[0m\n\u001b[1;32m      4\u001b[0m \u001b[0mjugador_pc\u001b[0m \u001b[0;34m=\u001b[0m \u001b[0mrd\u001b[0m\u001b[0;34m.\u001b[0m\u001b[0mrandint\u001b[0m\u001b[0;34m(\u001b[0m\u001b[0;36m1\u001b[0m\u001b[0;34m,\u001b[0m\u001b[0;36m2\u001b[0m\u001b[0;34m)\u001b[0m\u001b[0;34m\u001b[0m\u001b[0;34m\u001b[0m\u001b[0m\n\u001b[1;32m      5\u001b[0m \u001b[0;32mwhile\u001b[0m \u001b[0;32mnot\u001b[0m \u001b[0mfinal_pc\u001b[0m\u001b[0;34m:\u001b[0m\u001b[0;34m\u001b[0m\u001b[0;34m\u001b[0m\u001b[0m\n\u001b[0;32m----> 6\u001b[0;31m     \u001b[0mnuevo2_pc\u001b[0m\u001b[0;34m,\u001b[0m \u001b[0mjugador2_pc\u001b[0m \u001b[0;34m=\u001b[0m \u001b[0mjuego_pc\u001b[0m\u001b[0;34m(\u001b[0m\u001b[0mesta_pc\u001b[0m\u001b[0;34m,\u001b[0m\u001b[0mjugador_pc\u001b[0m\u001b[0;34m)\u001b[0m\u001b[0;34m\u001b[0m\u001b[0;34m\u001b[0m\u001b[0m\n\u001b[0m\u001b[1;32m      7\u001b[0m     \u001b[0mboo_pc\u001b[0m\u001b[0;34m,\u001b[0m \u001b[0mvalor_pc\u001b[0m \u001b[0;34m=\u001b[0m \u001b[0misendutil\u001b[0m\u001b[0;34m(\u001b[0m\u001b[0mnuevo2_pc\u001b[0m\u001b[0;34m)\u001b[0m\u001b[0;34m\u001b[0m\u001b[0;34m\u001b[0m\u001b[0m\n\u001b[1;32m      8\u001b[0m     \u001b[0mfinal_pc\u001b[0m \u001b[0;34m=\u001b[0m \u001b[0mboo_pc\u001b[0m\u001b[0;34m\u001b[0m\u001b[0;34m\u001b[0m\u001b[0m\n",
      "\u001b[0;32m<ipython-input-15-03fc01d99cc9>\u001b[0m in \u001b[0;36mjuego_pc\u001b[0;34m(Estado, jugador)\u001b[0m\n\u001b[1;32m     17\u001b[0m     \u001b[0;32mif\u001b[0m \u001b[0mjugador\u001b[0m\u001b[0;34m==\u001b[0m\u001b[0;36m1\u001b[0m\u001b[0;34m:\u001b[0m\u001b[0;34m\u001b[0m\u001b[0;34m\u001b[0m\u001b[0m\n\u001b[1;32m     18\u001b[0m         \u001b[0mprint\u001b[0m\u001b[0;34m(\u001b[0m\u001b[0;34m\"PC1\"\u001b[0m\u001b[0;34m)\u001b[0m\u001b[0;34m\u001b[0m\u001b[0;34m\u001b[0m\u001b[0m\n\u001b[0;32m---> 19\u001b[0;31m         \u001b[0mnuevo\u001b[0m\u001b[0;34m,\u001b[0m\u001b[0mjugador\u001b[0m \u001b[0;34m=\u001b[0m \u001b[0mdecision_minimax_pc\u001b[0m\u001b[0;34m(\u001b[0m\u001b[0mesta\u001b[0m\u001b[0;34m)\u001b[0m\u001b[0;34m\u001b[0m\u001b[0;34m\u001b[0m\u001b[0m\n\u001b[0m\u001b[1;32m     20\u001b[0m         \u001b[0;32mreturn\u001b[0m \u001b[0mnuevo\u001b[0m\u001b[0;34m,\u001b[0m\u001b[0mint\u001b[0m\u001b[0;34m(\u001b[0m\u001b[0;36m1\u001b[0m\u001b[0;34m)\u001b[0m\u001b[0;34m\u001b[0m\u001b[0;34m\u001b[0m\u001b[0m\n\u001b[1;32m     21\u001b[0m     \u001b[0;32melif\u001b[0m \u001b[0mjugador\u001b[0m\u001b[0;34m==\u001b[0m\u001b[0;36m2\u001b[0m\u001b[0;34m:\u001b[0m\u001b[0;34m\u001b[0m\u001b[0;34m\u001b[0m\u001b[0m\n",
      "\u001b[0;31mNameError\u001b[0m: name 'esta' is not defined"
     ]
    }
   ],
   "source": [
    "tablero_pc = np.zeros([3,3],int)\n",
    "esta_pc = Estado(tablero=tablero_pc)\n",
    "final_pc = False\n",
    "jugador_pc = rd.randint(1,2)\n",
    "while not final_pc:\n",
    "    nuevo2_pc, jugador2_pc = juego_pc(esta_pc,jugador_pc)\n",
    "    boo_pc, valor_pc = isendutil(nuevo2_pc)\n",
    "    final_pc = boo_pc\n",
    "    jugador_pc = jugador2_pc\n",
    "    esta_pc = nuevo2_pc\n",
    "    print(esta_pc)\n",
    "    print(jugador_pc)"
   ]
  },
  {
   "cell_type": "code",
   "execution_count": null,
   "metadata": {},
   "outputs": [],
   "source": []
  }
 ],
 "metadata": {
  "kernelspec": {
   "display_name": "Python 3",
   "language": "python",
   "name": "python3"
  },
  "language_info": {
   "codemirror_mode": {
    "name": "ipython",
    "version": 3
   },
   "file_extension": ".py",
   "mimetype": "text/x-python",
   "name": "python",
   "nbconvert_exporter": "python",
   "pygments_lexer": "ipython3",
   "version": "3.8.10"
  }
 },
 "nbformat": 4,
 "nbformat_minor": 4
}
